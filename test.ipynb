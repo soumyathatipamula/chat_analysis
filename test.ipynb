{
 "cells": [
  {
   "cell_type": "code",
   "execution_count": 21,
   "metadata": {},
   "outputs": [
    {
     "name": "stdout",
     "output_type": "stream",
     "text": [
      "        Date start_sentiment end_sentiment most_common_sentiment\n",
      "0 2024-06-01        positive      positive              positive\n",
      "1 2024-06-02        negative      positive              positive\n"
     ]
    }
   ],
   "source": [
    "import pandas as pd\n",
    "from collections import Counter\n",
    "\n",
    "# Sample data\n",
    "data = {\n",
    "    'Date': ['2024-06-01', '2024-06-01', '2024-06-01', '2024-06-02', '2024-06-02', '2024-06-02'],\n",
    "    'Sentiment': ['positive', 'negative', 'positive', 'negative', 'positive', 'positive'],\n",
    "}\n",
    "df = pd.DataFrame(data)\n",
    "\n",
    "# Convert 'Date' column to datetime format\n",
    "df['Date'] = pd.to_datetime(df['Date'])\n",
    "\n",
    "# Group by 'Date' column\n",
    "grouped = df.groupby('Date')\n",
    "\n",
    "# Function to get the most common sentiment\n",
    "def most_common_sentiment(series):\n",
    "    return Counter(series).most_common(1)[0][0]\n",
    "\n",
    "# Create a new DataFrame with the required columns\n",
    "result_df = grouped.agg(\n",
    "    start_sentiment=('Sentiment', 'first'),\n",
    "    end_sentiment=('Sentiment', 'last'),\n",
    "    most_common_sentiment=('Sentiment', most_common_sentiment)\n",
    ").reset_index()\n",
    "\n",
    "# Print the result DataFrame\n",
    "print(result_df)\n"
   ]
  },
  {
   "cell_type": "code",
   "execution_count": null,
   "metadata": {},
   "outputs": [
    {
     "name": "stdout",
     "output_type": "stream",
     "text": [
      "Date: 2024-06-01 00:00:00\n",
      "0    positive\n",
      "1    negative\n",
      "Name: Sentiment, dtype: object\n",
      "\n",
      "Date: 2024-06-02 00:00:00\n",
      "2    negative\n",
      "3    positive\n",
      "4    positive\n",
      "Name: Sentiment, dtype: object\n",
      "\n"
     ]
    }
   ],
   "source": [
    "import pandas as pd\n",
    "\n",
    "# Sample data\n",
    "data = {\n",
    "    'Date': ['2024-06-01', '2024-06-01', '2024-06-02', '2024-06-02', '2024-06-02'],\n",
    "    'Sentiment': ['positive', 'negative', 'negative', 'positive', 'positive']\n",
    "}\n",
    "df = pd.DataFrame(data)\n",
    "\n",
    "# Convert 'Date' column to datetime format\n",
    "df['Date'] = pd.to_datetime(df['Date'])\n",
    "\n",
    "# Group by date\n",
    "grouped = df.groupby('Date')\n",
    "\n",
    "# Print each group in the grouped DataFrame\n",
    "for name, group in grouped:\n",
    "    print(f\"Date: {name}\")\n",
    "    print(group['Sentiment'])\n",
    "    print()  # Add a blank line for readability"
   ]
  },
  {
   "cell_type": "markdown",
   "metadata": {},
   "source": []
  },
  {
   "cell_type": "code",
   "execution_count": null,
   "metadata": {},
   "outputs": [
    {
     "name": "stdout",
     "output_type": "stream",
     "text": [
      "Date: 2024-06-01 00:00:00\n",
      "        Date Sentiment\n",
      "0 2024-06-01  positive\n",
      "1 2024-06-01  negative\n",
      "\n",
      "Date: 2024-06-02 00:00:00\n",
      "        Date Sentiment\n",
      "2 2024-06-02  negative\n",
      "3 2024-06-02  positive\n",
      "4 2024-06-02  positive\n",
      "\n"
     ]
    }
   ],
   "source": [
    "import pandas as pd\n",
    "\n",
    "# Sample data\n",
    "data = {\n",
    "    'Date': ['2024-06-01', '2024-06-01', '2024-06-02', '2024-06-02', '2024-06-02'],\n",
    "    'Sentiment': ['positive', 'negative', 'negative', 'positive', 'positive']\n",
    "}\n",
    "df = pd.DataFrame(data)\n",
    "\n",
    "# Convert 'Date' column to datetime format\n",
    "df['Date'] = pd.to_datetime(df['Date'])\n",
    "\n",
    "# Group by date\n",
    "grouped = df.groupby('Date')\n",
    "\n",
    "# Print each group in the grouped DataFrame\n",
    "for name, group in grouped:\n",
    "    print(f\"Date: {name}\")\n",
    "    print(group)\n",
    "    print()  # Add a blank line for readability\n",
    "\n",
    "\n"
   ]
  },
  {
   "cell_type": "code",
   "execution_count": 23,
   "metadata": {},
   "outputs": [
    {
     "ename": "ModuleNotFoundError",
     "evalue": "No module named 'gensim'",
     "output_type": "error",
     "traceback": [
      "\u001b[0;31m---------------------------------------------------------------------------\u001b[0m",
      "\u001b[0;31mModuleNotFoundError\u001b[0m                       Traceback (most recent call last)",
      "Cell \u001b[0;32mIn[23], line 5\u001b[0m\n\u001b[1;32m      3\u001b[0m \u001b[38;5;28;01mfrom\u001b[39;00m \u001b[38;5;21;01mnltk\u001b[39;00m\u001b[38;5;21;01m.\u001b[39;00m\u001b[38;5;21;01mcorpus\u001b[39;00m \u001b[38;5;28;01mimport\u001b[39;00m stopwords\n\u001b[1;32m      4\u001b[0m \u001b[38;5;28;01mfrom\u001b[39;00m \u001b[38;5;21;01mnltk\u001b[39;00m\u001b[38;5;21;01m.\u001b[39;00m\u001b[38;5;21;01mtokenize\u001b[39;00m \u001b[38;5;28;01mimport\u001b[39;00m word_tokenize\n\u001b[0;32m----> 5\u001b[0m \u001b[38;5;28;01mfrom\u001b[39;00m \u001b[38;5;21;01mgensim\u001b[39;00m \u001b[38;5;28;01mimport\u001b[39;00m corpora\n\u001b[1;32m      6\u001b[0m \u001b[38;5;28;01mfrom\u001b[39;00m \u001b[38;5;21;01mgensim\u001b[39;00m\u001b[38;5;21;01m.\u001b[39;00m\u001b[38;5;21;01mmodels\u001b[39;00m\u001b[38;5;21;01m.\u001b[39;00m\u001b[38;5;21;01mldamodel\u001b[39;00m \u001b[38;5;28;01mimport\u001b[39;00m LdaModel\n\u001b[1;32m      8\u001b[0m \u001b[38;5;66;03m# Download stopwords if not already available\u001b[39;00m\n",
      "\u001b[0;31mModuleNotFoundError\u001b[0m: No module named 'gensim'"
     ]
    }
   ],
   "source": [
    "import pandas as pd\n",
    "import nltk\n",
    "from nltk.corpus import stopwords\n",
    "from nltk.tokenize import word_tokenize\n",
    "from gensim import corpora\n",
    "from gensim.models.ldamodel import LdaModel\n",
    "\n",
    "# Download stopwords if not already available\n",
    "nltk.download('stopwords')\n",
    "nltk.download('punkt')\n",
    "\n",
    "# Sample text data\n",
    "data = {\n",
    "    'Text': [\n",
    "        \"Natural language processing makes it possible for computers to read text.\",\n",
    "        \"Machine learning is a subset of artificial intelligence.\",\n",
    "        \"Deep learning is a technique for implementing machine learning.\",\n",
    "        \"Artificial intelligence and machine learning are closely related fields.\",\n",
    "        \"Natural language processing can be used for sentiment analysis.\"\n",
    "    ]\n",
    "}\n",
    "df = pd.DataFrame(data)\n",
    "\n",
    "# Preprocess the text data\n",
    "stop_words = set(stopwords.words('english'))\n",
    "\n",
    "def preprocess(text):\n",
    "    # Tokenize the text\n",
    "    tokens = word_tokenize(text.lower())\n",
    "    # Remove stop words and punctuation\n",
    "    tokens = [word for word in tokens if word.isalnum() and word not in stop_words]\n",
    "    return tokens\n",
    "\n",
    "df['Tokens'] = df['Text'].apply(preprocess)\n",
    "\n",
    "# Create a dictionary and a corpus\n",
    "dictionary = corpora.Dictionary(df['Tokens'])\n",
    "corpus = [dictionary.doc2bow(tokens) for tokens in df['Tokens']]\n",
    "\n",
    "# Perform LDA topic modeling\n",
    "lda_model = LdaModel(corpus, num_topics=3, id2word=dictionary, passes=15)\n",
    "\n",
    "# Print the topics\n",
    "for idx, topic in lda_model.print_topics(-1):\n",
    "    print(f\"Topic {idx}: {topic}\")\n",
    "\n",
    "# If you want to see the topic distribution for each document\n",
    "topic_distribution = lda_model.get_document_topics(corpus)\n",
    "for i, distribution in enumerate(topic_distribution):\n",
    "    print(f\"Document {i} topic distribution: {distribution}\")\n"
   ]
  },
  {
   "cell_type": "code",
   "execution_count": null,
   "metadata": {},
   "outputs": [],
   "source": []
  }
 ],
 "metadata": {
  "kernelspec": {
   "display_name": "Python 3",
   "language": "python",
   "name": "python3"
  },
  "language_info": {
   "codemirror_mode": {
    "name": "ipython",
    "version": 3
   },
   "file_extension": ".py",
   "mimetype": "text/x-python",
   "name": "python",
   "nbconvert_exporter": "python",
   "pygments_lexer": "ipython3",
   "version": "3.12.2"
  }
 },
 "nbformat": 4,
 "nbformat_minor": 2
}
